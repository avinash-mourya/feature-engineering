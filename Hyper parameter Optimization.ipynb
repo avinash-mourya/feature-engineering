{
 "cells": [
  {
   "cell_type": "markdown",
   "metadata": {},
   "source": [
    "### All Techniques Of Hyper Parameter Optimization\n",
    "   - GridSearchCV\n",
    "   - RandomizedSearchCV\n",
    "   - Bayesian Optimization -Automate Hyperparameter Tuning (Hyperopt)\n",
    "   - Sequential Model Based Optimization (Tuning a scikit-learn estimator with skopt)\n",
    "   - Optuna-Automate Hyperparameter Tuning\n",
    "   - Genetic Algorithms (TPOT Classifier)\n",
    "###### References\n",
    "- https://github.com/fmfn/BayesianOptimization\n",
    "- https://github.com/hyperopt/hyperopt\n",
    "- https://www.jeremyjordan.me/hyperparameter-tuning/\n",
    "- https://optuna.org/\n",
    "- https://towardsdatascience.com/hyperparameters-optimization-526348bb8e2d(By Pier Paolo Ippolito )\n",
    "- https://scikit-optimize.github.io/stable/auto_examples/hyperparameter-optimization.html\n"
   ]
  },
  {
   "cell_type": "code",
   "execution_count": 29,
   "metadata": {},
   "outputs": [],
   "source": [
    "import pandas as pd"
   ]
  },
  {
   "cell_type": "code",
   "execution_count": 30,
   "metadata": {},
   "outputs": [],
   "source": [
    "data = pd.read_csv(\"diabetes.csv\")"
   ]
  },
  {
   "cell_type": "code",
   "execution_count": 31,
   "metadata": {},
   "outputs": [
    {
     "data": {
      "text/html": [
       "<div>\n",
       "<style scoped>\n",
       "    .dataframe tbody tr th:only-of-type {\n",
       "        vertical-align: middle;\n",
       "    }\n",
       "\n",
       "    .dataframe tbody tr th {\n",
       "        vertical-align: top;\n",
       "    }\n",
       "\n",
       "    .dataframe thead th {\n",
       "        text-align: right;\n",
       "    }\n",
       "</style>\n",
       "<table border=\"1\" class=\"dataframe\">\n",
       "  <thead>\n",
       "    <tr style=\"text-align: right;\">\n",
       "      <th></th>\n",
       "      <th>Pregnancies</th>\n",
       "      <th>Glucose</th>\n",
       "      <th>BloodPressure</th>\n",
       "      <th>SkinThickness</th>\n",
       "      <th>Insulin</th>\n",
       "      <th>BMI</th>\n",
       "      <th>DiabetesPedigreeFunction</th>\n",
       "      <th>Age</th>\n",
       "      <th>Outcome</th>\n",
       "    </tr>\n",
       "  </thead>\n",
       "  <tbody>\n",
       "    <tr>\n",
       "      <th>0</th>\n",
       "      <td>6</td>\n",
       "      <td>148</td>\n",
       "      <td>72</td>\n",
       "      <td>35</td>\n",
       "      <td>0</td>\n",
       "      <td>33.6</td>\n",
       "      <td>0.627</td>\n",
       "      <td>50</td>\n",
       "      <td>1</td>\n",
       "    </tr>\n",
       "    <tr>\n",
       "      <th>1</th>\n",
       "      <td>1</td>\n",
       "      <td>85</td>\n",
       "      <td>66</td>\n",
       "      <td>29</td>\n",
       "      <td>0</td>\n",
       "      <td>26.6</td>\n",
       "      <td>0.351</td>\n",
       "      <td>31</td>\n",
       "      <td>0</td>\n",
       "    </tr>\n",
       "    <tr>\n",
       "      <th>2</th>\n",
       "      <td>8</td>\n",
       "      <td>183</td>\n",
       "      <td>64</td>\n",
       "      <td>0</td>\n",
       "      <td>0</td>\n",
       "      <td>23.3</td>\n",
       "      <td>0.672</td>\n",
       "      <td>32</td>\n",
       "      <td>1</td>\n",
       "    </tr>\n",
       "    <tr>\n",
       "      <th>3</th>\n",
       "      <td>1</td>\n",
       "      <td>89</td>\n",
       "      <td>66</td>\n",
       "      <td>23</td>\n",
       "      <td>94</td>\n",
       "      <td>28.1</td>\n",
       "      <td>0.167</td>\n",
       "      <td>21</td>\n",
       "      <td>0</td>\n",
       "    </tr>\n",
       "    <tr>\n",
       "      <th>4</th>\n",
       "      <td>0</td>\n",
       "      <td>137</td>\n",
       "      <td>40</td>\n",
       "      <td>35</td>\n",
       "      <td>168</td>\n",
       "      <td>43.1</td>\n",
       "      <td>2.288</td>\n",
       "      <td>33</td>\n",
       "      <td>1</td>\n",
       "    </tr>\n",
       "    <tr>\n",
       "      <th>...</th>\n",
       "      <td>...</td>\n",
       "      <td>...</td>\n",
       "      <td>...</td>\n",
       "      <td>...</td>\n",
       "      <td>...</td>\n",
       "      <td>...</td>\n",
       "      <td>...</td>\n",
       "      <td>...</td>\n",
       "      <td>...</td>\n",
       "    </tr>\n",
       "    <tr>\n",
       "      <th>763</th>\n",
       "      <td>10</td>\n",
       "      <td>101</td>\n",
       "      <td>76</td>\n",
       "      <td>48</td>\n",
       "      <td>180</td>\n",
       "      <td>32.9</td>\n",
       "      <td>0.171</td>\n",
       "      <td>63</td>\n",
       "      <td>0</td>\n",
       "    </tr>\n",
       "    <tr>\n",
       "      <th>764</th>\n",
       "      <td>2</td>\n",
       "      <td>122</td>\n",
       "      <td>70</td>\n",
       "      <td>27</td>\n",
       "      <td>0</td>\n",
       "      <td>36.8</td>\n",
       "      <td>0.340</td>\n",
       "      <td>27</td>\n",
       "      <td>0</td>\n",
       "    </tr>\n",
       "    <tr>\n",
       "      <th>765</th>\n",
       "      <td>5</td>\n",
       "      <td>121</td>\n",
       "      <td>72</td>\n",
       "      <td>23</td>\n",
       "      <td>112</td>\n",
       "      <td>26.2</td>\n",
       "      <td>0.245</td>\n",
       "      <td>30</td>\n",
       "      <td>0</td>\n",
       "    </tr>\n",
       "    <tr>\n",
       "      <th>766</th>\n",
       "      <td>1</td>\n",
       "      <td>126</td>\n",
       "      <td>60</td>\n",
       "      <td>0</td>\n",
       "      <td>0</td>\n",
       "      <td>30.1</td>\n",
       "      <td>0.349</td>\n",
       "      <td>47</td>\n",
       "      <td>1</td>\n",
       "    </tr>\n",
       "    <tr>\n",
       "      <th>767</th>\n",
       "      <td>1</td>\n",
       "      <td>93</td>\n",
       "      <td>70</td>\n",
       "      <td>31</td>\n",
       "      <td>0</td>\n",
       "      <td>30.4</td>\n",
       "      <td>0.315</td>\n",
       "      <td>23</td>\n",
       "      <td>0</td>\n",
       "    </tr>\n",
       "  </tbody>\n",
       "</table>\n",
       "<p>768 rows × 9 columns</p>\n",
       "</div>"
      ],
      "text/plain": [
       "     Pregnancies  Glucose  BloodPressure  SkinThickness  Insulin   BMI  \\\n",
       "0              6      148             72             35        0  33.6   \n",
       "1              1       85             66             29        0  26.6   \n",
       "2              8      183             64              0        0  23.3   \n",
       "3              1       89             66             23       94  28.1   \n",
       "4              0      137             40             35      168  43.1   \n",
       "..           ...      ...            ...            ...      ...   ...   \n",
       "763           10      101             76             48      180  32.9   \n",
       "764            2      122             70             27        0  36.8   \n",
       "765            5      121             72             23      112  26.2   \n",
       "766            1      126             60              0        0  30.1   \n",
       "767            1       93             70             31        0  30.4   \n",
       "\n",
       "     DiabetesPedigreeFunction  Age  Outcome  \n",
       "0                       0.627   50        1  \n",
       "1                       0.351   31        0  \n",
       "2                       0.672   32        1  \n",
       "3                       0.167   21        0  \n",
       "4                       2.288   33        1  \n",
       "..                        ...  ...      ...  \n",
       "763                     0.171   63        0  \n",
       "764                     0.340   27        0  \n",
       "765                     0.245   30        0  \n",
       "766                     0.349   47        1  \n",
       "767                     0.315   23        0  \n",
       "\n",
       "[768 rows x 9 columns]"
      ]
     },
     "execution_count": 31,
     "metadata": {},
     "output_type": "execute_result"
    }
   ],
   "source": [
    "data"
   ]
  },
  {
   "cell_type": "code",
   "execution_count": 6,
   "metadata": {},
   "outputs": [],
   "source": [
    "import numpy as np\n",
    "data[\"Glucose\"]=np.where(data[\"Glucose\"]==0,data[\"Glucose\"].median(),data[\"Glucose\"])\n",
    "data[\"Insulin\"]=np.where(data[\"Insulin\"]==0,data[\"Insulin\"].median(),data[\"Insulin\"])\n",
    "data[\"SkinThickness\"]=np.where(data[\"SkinThickness\"]==0,data[\"SkinThickness\"].median(),data[\"SkinThickness\"])"
   ]
  },
  {
   "cell_type": "code",
   "execution_count": 7,
   "metadata": {},
   "outputs": [],
   "source": [
    "X=data.drop('Outcome',axis=1)\n",
    "Y = data[\"Outcome\"]"
   ]
  },
  {
   "cell_type": "code",
   "execution_count": 8,
   "metadata": {},
   "outputs": [],
   "source": [
    "from sklearn.model_selection import train_test_split\n",
    "train_x,test_x,train_y,test_y = train_test_split(X,Y,test_size=0.3,random_state=35,stratify=Y)"
   ]
  },
  {
   "cell_type": "code",
   "execution_count": 7,
   "metadata": {},
   "outputs": [
    {
     "name": "stdout",
     "output_type": "stream",
     "text": [
      "[[130  20]\n",
      " [ 26  55]]\n",
      "              precision    recall  f1-score   support\n",
      "\n",
      "           0       0.83      0.87      0.85       150\n",
      "           1       0.73      0.68      0.71        81\n",
      "\n",
      "    accuracy                           0.80       231\n",
      "   macro avg       0.78      0.77      0.78       231\n",
      "weighted avg       0.80      0.80      0.80       231\n",
      "\n"
     ]
    }
   ],
   "source": [
    "from sklearn.ensemble import RandomForestClassifier\n",
    "from sklearn.metrics import confusion_matrix,classification_report\n",
    "clf = RandomForestClassifier()\n",
    "clf.fit(train_x,train_y)\n",
    "pred_y = clf.predict(test_x)\n",
    "print(confusion_matrix(test_y,pred_y))\n",
    "print(classification_report(test_y,pred_y))"
   ]
  },
  {
   "cell_type": "markdown",
   "metadata": {},
   "source": [
    "##### cross_val_score"
   ]
  },
  {
   "cell_type": "code",
   "execution_count": 8,
   "metadata": {},
   "outputs": [
    {
     "name": "stderr",
     "output_type": "stream",
     "text": [
      "[Parallel(n_jobs=-1)]: Using backend LokyBackend with 4 concurrent workers.\n",
      "[Parallel(n_jobs=-1)]: Done   7 out of  10 | elapsed:    3.9s remaining:    1.6s\n",
      "[Parallel(n_jobs=-1)]: Done  10 out of  10 | elapsed:    4.2s finished\n"
     ]
    }
   ],
   "source": [
    "from sklearn.model_selection import cross_val_score\n",
    "clf = RandomForestClassifier()\n",
    "accuracy = cross_val_score(clf,train_x,train_y,cv=10,n_jobs=-1,scoring=\"accuracy\",verbose=3)"
   ]
  },
  {
   "cell_type": "code",
   "execution_count": 9,
   "metadata": {},
   "outputs": [
    {
     "data": {
      "text/plain": [
       "array([0.68518519, 0.75925926, 0.74074074, 0.77777778, 0.75925926,\n",
       "       0.7037037 , 0.74074074, 0.77358491, 0.67924528, 0.71698113])"
      ]
     },
     "execution_count": 9,
     "metadata": {},
     "output_type": "execute_result"
    }
   ],
   "source": [
    "accuracy"
   ]
  },
  {
   "cell_type": "code",
   "execution_count": 10,
   "metadata": {},
   "outputs": [
    {
     "data": {
      "text/plain": [
       "0.7336477987421384"
      ]
     },
     "execution_count": 10,
     "metadata": {},
     "output_type": "execute_result"
    }
   ],
   "source": [
    "accuracy.mean()"
   ]
  },
  {
   "cell_type": "markdown",
   "metadata": {},
   "source": [
    "### RandomizedSearchCV"
   ]
  },
  {
   "cell_type": "code",
   "execution_count": 11,
   "metadata": {},
   "outputs": [
    {
     "data": {
      "text/plain": [
       "{'n_estimators': [100, 200, 300, 400, 500, 600, 700, 800, 900, 1000],\n",
       " 'criterion': ['gini', 'entropy'],\n",
       " 'max_depth': [10.0,\n",
       "  65.77777777777777,\n",
       "  121.55555555555556,\n",
       "  177.33333333333334,\n",
       "  233.11111111111111,\n",
       "  288.8888888888889,\n",
       "  344.6666666666667,\n",
       "  400.44444444444446,\n",
       "  456.22222222222223,\n",
       "  512.0],\n",
       " 'min_samples_split': [2, 3, 4, 5, 6],\n",
       " 'min_samples_leaf': [2, 3, 4, 5, 6],\n",
       " 'max_features': ['auto', 'log2', 'squard']}"
      ]
     },
     "execution_count": 11,
     "metadata": {},
     "output_type": "execute_result"
    }
   ],
   "source": [
    "import numpy as np\n",
    "param = {\n",
    "     \"n_estimators\":[np.int(x) for x in np.linspace(100,1000,10)],\n",
    "    \"criterion\":[\"gini\",\"entropy\"],\n",
    "    \"max_depth\":[x for x in np.linspace(10,512,10)],\n",
    "    \"min_samples_split\":[2,3,4,5,6],\n",
    "    \"min_samples_leaf\":[2,3,4,5,6],\n",
    "    \"max_features\":['auto',\"log2\",\"squard\"]}\n",
    "param"
   ]
  },
  {
   "cell_type": "code",
   "execution_count": 12,
   "metadata": {},
   "outputs": [],
   "source": [
    "from sklearn.model_selection import RandomizedSearchCV"
   ]
  },
  {
   "cell_type": "code",
   "execution_count": 13,
   "metadata": {},
   "outputs": [
    {
     "name": "stdout",
     "output_type": "stream",
     "text": [
      "Fitting 10 folds for each of 10 candidates, totalling 100 fits\n"
     ]
    },
    {
     "name": "stderr",
     "output_type": "stream",
     "text": [
      "[Parallel(n_jobs=-1)]: Using backend LokyBackend with 4 concurrent workers.\n",
      "[Parallel(n_jobs=-1)]: Done  24 tasks      | elapsed:   13.3s\n",
      "[Parallel(n_jobs=-1)]: Done 100 out of 100 | elapsed:   45.0s finished\n"
     ]
    },
    {
     "data": {
      "text/plain": [
       "RandomizedSearchCV(cv=10, estimator=RandomForestClassifier(), n_jobs=-1,\n",
       "                   param_distributions={'criterion': ['gini', 'entropy'],\n",
       "                                        'max_depth': [10.0, 65.77777777777777,\n",
       "                                                      121.55555555555556,\n",
       "                                                      177.33333333333334,\n",
       "                                                      233.11111111111111,\n",
       "                                                      288.8888888888889,\n",
       "                                                      344.6666666666667,\n",
       "                                                      400.44444444444446,\n",
       "                                                      456.22222222222223,\n",
       "                                                      512.0],\n",
       "                                        'max_features': ['auto', 'log2',\n",
       "                                                         'squard'],\n",
       "                                        'min_samples_leaf': [2, 3, 4, 5, 6],\n",
       "                                        'min_samples_split': [2, 3, 4, 5, 6],\n",
       "                                        'n_estimators': [100, 200, 300, 400,\n",
       "                                                         500, 600, 700, 800,\n",
       "                                                         900, 1000]},\n",
       "                   scoring='accuracy', verbose=3)"
      ]
     },
     "execution_count": 13,
     "metadata": {},
     "output_type": "execute_result"
    }
   ],
   "source": [
    "random_search=RandomizedSearchCV(clf,param_distributions=param,cv=10,scoring=\"accuracy\",n_jobs=-1,verbose=3)\n",
    "random_search.fit(train_x,train_y)"
   ]
  },
  {
   "cell_type": "code",
   "execution_count": 14,
   "metadata": {},
   "outputs": [
    {
     "data": {
      "text/plain": [
       "{'n_estimators': 400,\n",
       " 'min_samples_split': 6,\n",
       " 'min_samples_leaf': 5,\n",
       " 'max_features': 'auto',\n",
       " 'max_depth': 10.0,\n",
       " 'criterion': 'entropy'}"
      ]
     },
     "execution_count": 14,
     "metadata": {},
     "output_type": "execute_result"
    }
   ],
   "source": [
    "params = random_search.best_params_\n",
    "params"
   ]
  },
  {
   "cell_type": "code",
   "execution_count": 15,
   "metadata": {},
   "outputs": [
    {
     "data": {
      "text/plain": [
       "0.7486023759608665"
      ]
     },
     "execution_count": 15,
     "metadata": {},
     "output_type": "execute_result"
    }
   ],
   "source": [
    "random_search.best_score_"
   ]
  },
  {
   "cell_type": "code",
   "execution_count": 16,
   "metadata": {},
   "outputs": [
    {
     "name": "stdout",
     "output_type": "stream",
     "text": [
      "[[132  18]\n",
      " [ 29  52]]\n",
      "              precision    recall  f1-score   support\n",
      "\n",
      "           0       0.82      0.88      0.85       150\n",
      "           1       0.74      0.64      0.69        81\n",
      "\n",
      "    accuracy                           0.80       231\n",
      "   macro avg       0.78      0.76      0.77       231\n",
      "weighted avg       0.79      0.80      0.79       231\n",
      "\n"
     ]
    }
   ],
   "source": [
    "clf = RandomForestClassifier(**params)\n",
    "clf.fit(train_x,train_y)\n",
    "pred_y = clf.predict(test_x)\n",
    "print(confusion_matrix(test_y,pred_y))\n",
    "print(classification_report(test_y,pred_y))"
   ]
  },
  {
   "cell_type": "markdown",
   "metadata": {},
   "source": [
    "### GridSearchCV"
   ]
  },
  {
   "cell_type": "code",
   "execution_count": 19,
   "metadata": {},
   "outputs": [],
   "source": [
    "from sklearn.model_selection import GridSearchCV"
   ]
  },
  {
   "cell_type": "code",
   "execution_count": 24,
   "metadata": {},
   "outputs": [],
   "source": [
    "param = {'n_estimators':[ params[\"n_estimators\"],params[\"n_estimators\"]-100,params[\"n_estimators\"]-200,params[\"n_estimators\"]+100,params[\"n_estimators\"]+200],\n",
    " 'min_samples_split': [params['min_samples_split'],params['min_samples_split']-1,\n",
    "                       params['min_samples_split']-2,params['min_samples_split']+1,\n",
    "                       params['min_samples_split']+2],\n",
    " 'min_samples_leaf': [params['min_samples_leaf'],params['min_samples_leaf']-1,\n",
    "                      params['min_samples_leaf']-2,params['min_samples_leaf']+1,\n",
    "                      params['min_samples_leaf']+2],\n",
    " 'max_features': ['auto'],\n",
    " 'max_depth': [params['max_depth'],params['max_depth']-2,\n",
    "               params['max_depth']-4,\n",
    "               params['max_depth']+2,\n",
    "               params['max_depth']+4],\n",
    " 'criterion': ['entropy']}"
   ]
  },
  {
   "cell_type": "code",
   "execution_count": 25,
   "metadata": {},
   "outputs": [
    {
     "name": "stdout",
     "output_type": "stream",
     "text": [
      "Fitting 10 folds for each of 625 candidates, totalling 6250 fits\n"
     ]
    },
    {
     "name": "stderr",
     "output_type": "stream",
     "text": [
      "[Parallel(n_jobs=-1)]: Using backend LokyBackend with 4 concurrent workers.\n",
      "[Parallel(n_jobs=-1)]: Done  24 tasks      | elapsed:   11.1s\n",
      "[Parallel(n_jobs=-1)]: Done 120 tasks      | elapsed:   51.0s\n",
      "[Parallel(n_jobs=-1)]: Done 280 tasks      | elapsed:  1.9min\n",
      "[Parallel(n_jobs=-1)]: Done 504 tasks      | elapsed:  3.5min\n",
      "[Parallel(n_jobs=-1)]: Done 792 tasks      | elapsed:  5.5min\n",
      "[Parallel(n_jobs=-1)]: Done 1144 tasks      | elapsed:  7.9min\n",
      "[Parallel(n_jobs=-1)]: Done 1560 tasks      | elapsed: 10.7min\n",
      "[Parallel(n_jobs=-1)]: Done 2040 tasks      | elapsed: 13.9min\n",
      "[Parallel(n_jobs=-1)]: Done 2584 tasks      | elapsed: 17.5min\n",
      "[Parallel(n_jobs=-1)]: Done 3192 tasks      | elapsed: 21.5min\n",
      "[Parallel(n_jobs=-1)]: Done 3864 tasks      | elapsed: 26.0min\n",
      "[Parallel(n_jobs=-1)]: Done 4600 tasks      | elapsed: 31.0min\n",
      "[Parallel(n_jobs=-1)]: Done 5400 tasks      | elapsed: 36.4min\n",
      "[Parallel(n_jobs=-1)]: Done 6250 out of 6250 | elapsed: 42.3min finished\n"
     ]
    },
    {
     "data": {
      "text/plain": [
       "GridSearchCV(cv=10,\n",
       "             estimator=RandomForestClassifier(criterion='entropy',\n",
       "                                              max_depth=10.0,\n",
       "                                              min_samples_leaf=5,\n",
       "                                              min_samples_split=6,\n",
       "                                              n_estimators=400),\n",
       "             n_jobs=-1,\n",
       "             param_grid={'criterion': ['entropy'],\n",
       "                         'max_depth': [10.0, 8.0, 6.0, 12.0, 14.0],\n",
       "                         'max_features': ['auto'],\n",
       "                         'min_samples_leaf': [5, 4, 3, 6, 7],\n",
       "                         'min_samples_split': [6, 5, 4, 7, 8],\n",
       "                         'n_estimators': [400, 300, 200, 500, 600]},\n",
       "             scoring='accuracy', verbose=3)"
      ]
     },
     "execution_count": 25,
     "metadata": {},
     "output_type": "execute_result"
    }
   ],
   "source": [
    "grid_search = GridSearchCV(clf,param_grid=param,cv=10,scoring=\"accuracy\",n_jobs=-1,verbose=3)\n",
    "grid_search.fit(train_x,train_y)"
   ]
  },
  {
   "cell_type": "code",
   "execution_count": 28,
   "metadata": {},
   "outputs": [
    {
     "data": {
      "text/plain": [
       "{'criterion': 'entropy',\n",
       " 'max_depth': 6.0,\n",
       " 'max_features': 'auto',\n",
       " 'min_samples_leaf': 3,\n",
       " 'min_samples_split': 7,\n",
       " 'n_estimators': 600}"
      ]
     },
     "execution_count": 28,
     "metadata": {},
     "output_type": "execute_result"
    }
   ],
   "source": [
    "grid_param = grid_search.best_params_\n",
    "grid_param"
   ]
  },
  {
   "cell_type": "code",
   "execution_count": 27,
   "metadata": {},
   "outputs": [
    {
     "data": {
      "text/plain": [
       "0.7617051013277429"
      ]
     },
     "execution_count": 27,
     "metadata": {},
     "output_type": "execute_result"
    }
   ],
   "source": [
    "grid_search.best_score_"
   ]
  },
  {
   "cell_type": "code",
   "execution_count": 29,
   "metadata": {},
   "outputs": [
    {
     "name": "stdout",
     "output_type": "stream",
     "text": [
      "[[133  17]\n",
      " [ 30  51]]\n",
      "              precision    recall  f1-score   support\n",
      "\n",
      "           0       0.82      0.89      0.85       150\n",
      "           1       0.75      0.63      0.68        81\n",
      "\n",
      "    accuracy                           0.80       231\n",
      "   macro avg       0.78      0.76      0.77       231\n",
      "weighted avg       0.79      0.80      0.79       231\n",
      "\n"
     ]
    }
   ],
   "source": [
    "clf = RandomForestClassifier(**grid_param)\n",
    "clf.fit(train_x,train_y)\n",
    "pred_y = clf.predict(test_x)\n",
    "print(confusion_matrix(test_y,pred_y))\n",
    "print(classification_report(test_y,pred_y))"
   ]
  },
  {
   "cell_type": "markdown",
   "metadata": {},
   "source": [
    "### Bayesian Optimization -Automate Hyperparameter Tuning (Hyperopt)"
   ]
  },
  {
   "cell_type": "markdown",
   "metadata": {},
   "source": [
    "### Automated Hyperparameter Tuning\n",
    "Automated Hyperparameter Tuning can be done by using techniques such as \n",
    "- Bayesian Optimization\n",
    "- Gradient Descent\n",
    "- Evolutionary Algorithms"
   ]
  },
  {
   "cell_type": "markdown",
   "metadata": {},
   "source": [
    "#### Bayesian Optimization\n",
    "Bayesian optimization uses probability to find the minimum of a function. The final aim is to find the input value to a function which can gives us the lowest possible output value.It usually performs better than random,grid and manual search providing better performance in the testing phase and reduced optimization time.\n",
    "In Hyperopt, Bayesian Optimization can be implemented giving 3 three main parameters to the function fmin.\n",
    "\n",
    "- Objective Function = defines the loss function to minimize.\n",
    "- Domain Space = defines the range of input values to test (in Bayesian Optimization this space creates a probability distribution for each of the used Hyperparameters).\n",
    "- Optimization Algorithm = defines the search algorithm to use to select the best input values to use in each new iteration."
   ]
  },
  {
   "cell_type": "code",
   "execution_count": 11,
   "metadata": {},
   "outputs": [
    {
     "name": "stdout",
     "output_type": "stream",
     "text": [
      "Collecting hyperopt\n",
      "  Downloading hyperopt-0.2.4-py2.py3-none-any.whl (964 kB)\n",
      "Requirement already satisfied: tqdm in g:\\python program\\data science\\lib\\site-packages (from hyperopt) (4.43.0)\n",
      "Collecting networkx>=2.2\n",
      "  Using cached networkx-2.5-py3-none-any.whl (1.6 MB)\n",
      "Requirement already satisfied: six in g:\\python program\\data science\\lib\\site-packages (from hyperopt) (1.14.0)\n",
      "Requirement already satisfied: numpy in g:\\python program\\data science\\lib\\site-packages (from hyperopt) (1.18.1)\n",
      "Requirement already satisfied: future in g:\\python program\\data science\\lib\\site-packages (from hyperopt) (0.18.2)\n",
      "Requirement already satisfied: scipy in g:\\python program\\data science\\lib\\site-packages (from hyperopt) (1.4.1)\n",
      "Requirement already satisfied: cloudpickle in g:\\python program\\data science\\lib\\site-packages (from hyperopt) (1.2.2)\n",
      "Requirement already satisfied: decorator>=4.3.0 in g:\\python program\\data science\\lib\\site-packages (from networkx>=2.2->hyperopt) (4.4.1)\n",
      "Installing collected packages: networkx, hyperopt\n",
      "Successfully installed hyperopt-0.2.4 networkx-2.5\n"
     ]
    },
    {
     "name": "stderr",
     "output_type": "stream",
     "text": [
      "WARNING: You are using pip version 20.0.2; however, version 20.2.2 is available.\n",
      "You should consider upgrading via the 'g:\\python program\\data science\\scripts\\python.exe -m pip install --upgrade pip' command.\n"
     ]
    }
   ],
   "source": [
    "# !pip install hyperopt"
   ]
  },
  {
   "cell_type": "code",
   "execution_count": 23,
   "metadata": {},
   "outputs": [],
   "source": [
    "from hyperopt import hp,fmin,tpe,STATUS_OK,Trials\n",
    "from sklearn.ensemble import RandomForestClassifier\n",
    "from sklearn.metrics import confusion_matrix,accuracy_score,classification_report\n",
    "space = {'criterion': hp.choice('criterion', ['entropy', 'gini']),\n",
    "        'max_depth': hp.quniform('max_depth', 10, 1200, 10),\n",
    "        'max_features': hp.choice('max_features', ['auto', 'sqrt','log2', None]),\n",
    "        'min_samples_leaf': hp.uniform('min_samples_leaf', 0, 0.5),\n",
    "        'min_samples_split' : hp.uniform ('min_samples_split', 0, 1),\n",
    "        'n_estimators' : hp.choice('n_estimators', [10, 50, 300, 750, 1200,1300,1500])\n",
    "    }"
   ]
  },
  {
   "cell_type": "code",
   "execution_count": 18,
   "metadata": {},
   "outputs": [],
   "source": [
    "def objective(space):\n",
    "    model = RandomForestClassifier(criterion = space['criterion'], max_depth = space['max_depth'],\n",
    "                                 max_features = space['max_features'],\n",
    "                                 min_samples_leaf = space['min_samples_leaf'],\n",
    "                                 min_samples_split = space['min_samples_split'],\n",
    "                                 n_estimators = space['n_estimators'], \n",
    "                                 )\n",
    "    \n",
    "    accuracy = cross_val_score(model, train_x, train_y, cv = 5).mean()\n",
    "\n",
    "    # We aim to maximize accuracy, therefore we return it as a negative value\n",
    "    return {'loss': -accuracy, 'status': STATUS_OK }"
   ]
  },
  {
   "cell_type": "code",
   "execution_count": 19,
   "metadata": {},
   "outputs": [
    {
     "name": "stdout",
     "output_type": "stream",
     "text": [
      "100%|███████████████████████████████████████████████| 80/80 [11:08<00:00,  8.35s/trial, best loss: -0.7411907234337141]\n"
     ]
    },
    {
     "data": {
      "text/plain": [
       "{'criterion': 1,\n",
       " 'max_depth': 410.0,\n",
       " 'max_features': 0,\n",
       " 'min_samples_leaf': 0.0005172313617776911,\n",
       " 'min_samples_split': 0.003519177501550591,\n",
       " 'n_estimators': 6}"
      ]
     },
     "execution_count": 19,
     "metadata": {},
     "output_type": "execute_result"
    }
   ],
   "source": [
    "from sklearn.model_selection import cross_val_score\n",
    "trials = Trials()\n",
    "best = fmin(fn= objective,\n",
    "            space= space,\n",
    "            algo= tpe.suggest,\n",
    "            max_evals = 80,\n",
    "            trials= trials)\n",
    "best"
   ]
  },
  {
   "cell_type": "code",
   "execution_count": 20,
   "metadata": {},
   "outputs": [
    {
     "name": "stdout",
     "output_type": "stream",
     "text": [
      "gini\n",
      "auto\n",
      "1500\n"
     ]
    }
   ],
   "source": [
    "crit = {0: 'entropy', 1: 'gini'}\n",
    "feat = {0: 'auto', 1: 'sqrt', 2: 'log2', 3: None}\n",
    "est = {0: 10, 1: 50, 2: 300, 3: 750, 4: 1200,5:1300,6:1500}\n",
    "\n",
    "\n",
    "print(crit[best['criterion']])\n",
    "print(feat[best['max_features']])\n",
    "print(est[best['n_estimators']])"
   ]
  },
  {
   "cell_type": "code",
   "execution_count": 24,
   "metadata": {},
   "outputs": [
    {
     "name": "stdout",
     "output_type": "stream",
     "text": [
      "[[131  19]\n",
      " [ 25  56]]\n",
      "0.8095238095238095\n",
      "              precision    recall  f1-score   support\n",
      "\n",
      "           0       0.84      0.87      0.86       150\n",
      "           1       0.75      0.69      0.72        81\n",
      "\n",
      "    accuracy                           0.81       231\n",
      "   macro avg       0.79      0.78      0.79       231\n",
      "weighted avg       0.81      0.81      0.81       231\n",
      "\n"
     ]
    }
   ],
   "source": [
    "trainedforest = RandomForestClassifier(criterion = crit[best['criterion']], max_depth = best['max_depth'], \n",
    "                                       max_features = feat[best['max_features']], \n",
    "                                       min_samples_leaf = best['min_samples_leaf'], \n",
    "                                       min_samples_split = best['min_samples_split'], \n",
    "                                       n_estimators = est[best['n_estimators']]).fit(train_x,train_y)\n",
    "predictionforest = trainedforest.predict(test_x)\n",
    "print(confusion_matrix(test_y,predictionforest))\n",
    "print(accuracy_score(test_y,predictionforest))\n",
    "print(classification_report(test_y,predictionforest))\n",
    "acc5 = accuracy_score(test_y,predictionforest)"
   ]
  },
  {
   "cell_type": "markdown",
   "metadata": {},
   "source": [
    "#### Genetic Algorithms\n",
    "Genetic Algorithms tries to apply natural selection mechanisms to Machine Learning contexts.\n",
    "\n",
    "Let's immagine we create a population of N Machine Learning models with some predifined Hyperparameters. We can then calculate the accuracy of each model and decide to keep just half of the models (the ones that performs best). We can now generate some offsprings having similar Hyperparameters to the ones of the best models so that go get again a population of N models. At this point we can again caltulate the accuracy of each model and repeate the cycle for a defined number of generations. In this way, just the best models will survive at the end of the process."
   ]
  },
  {
   "cell_type": "code",
   "execution_count": 25,
   "metadata": {
    "scrolled": true
   },
   "outputs": [
    {
     "name": "stdout",
     "output_type": "stream",
     "text": [
      "{'n_estimators': [200, 400, 600, 800, 1000, 1200, 1400, 1600, 1800, 2000], 'max_features': ['auto', 'sqrt', 'log2'], 'max_depth': [10, 120, 230, 340, 450, 560, 670, 780, 890, 1000], 'min_samples_split': [2, 5, 10, 14], 'min_samples_leaf': [1, 2, 4, 6, 8], 'criterion': ['entropy', 'gini']}\n"
     ]
    }
   ],
   "source": [
    "n_estimators = [int(x) for x in np.linspace(start = 200, stop = 2000, num = 10)]\n",
    "# Number of features to consider at every split\n",
    "max_features = ['auto', 'sqrt','log2']\n",
    "# Maximum number of levels in tree\n",
    "max_depth = [int(x) for x in np.linspace(10, 1000,10)]\n",
    "# Minimum number of samples required to split a node\n",
    "min_samples_split = [2, 5, 10,14]\n",
    "# Minimum number of samples required at each leaf node\n",
    "min_samples_leaf = [1, 2, 4,6,8]\n",
    "# Create the random grid\n",
    "param = {'n_estimators': n_estimators,\n",
    "               'max_features': max_features,\n",
    "               'max_depth': max_depth,\n",
    "               'min_samples_split': min_samples_split,\n",
    "               'min_samples_leaf': min_samples_leaf,\n",
    "              'criterion':['entropy','gini']}\n",
    "print(param)"
   ]
  },
  {
   "cell_type": "code",
   "execution_count": 26,
   "metadata": {},
   "outputs": [
    {
     "name": "stdout",
     "output_type": "stream",
     "text": [
      "Collecting tpot\n",
      "  Downloading TPOT-0.11.5-py3-none-any.whl (82 kB)\n",
      "Requirement already satisfied: pandas>=0.24.2 in g:\\python program\\data science\\lib\\site-packages (from tpot) (1.0.0)\n",
      "Collecting stopit>=1.1.1\n",
      "  Downloading stopit-1.1.2.tar.gz (18 kB)\n",
      "Requirement already satisfied: numpy>=1.16.3 in g:\\python program\\data science\\lib\\site-packages (from tpot) (1.18.1)\n",
      "Requirement already satisfied: joblib>=0.13.2 in g:\\python program\\data science\\lib\\site-packages (from tpot) (0.14.1)\n",
      "Requirement already satisfied: scipy>=1.3.1 in g:\\python program\\data science\\lib\\site-packages (from tpot) (1.4.1)\n",
      "Requirement already satisfied: scikit-learn>=0.22.0 in g:\\python program\\data science\\lib\\site-packages (from tpot) (0.23.2)\n",
      "Collecting update-checker>=0.16\n",
      "  Downloading update_checker-0.18.0-py3-none-any.whl (7.0 kB)\n",
      "Collecting deap>=1.2\n",
      "  Downloading deap-1.3.1-cp37-cp37m-win_amd64.whl (108 kB)\n",
      "Requirement already satisfied: tqdm>=4.36.1 in g:\\python program\\data science\\lib\\site-packages (from tpot) (4.43.0)\n",
      "Requirement already satisfied: pytz>=2017.2 in g:\\python program\\data science\\lib\\site-packages (from pandas>=0.24.2->tpot) (2019.3)\n",
      "Requirement already satisfied: python-dateutil>=2.6.1 in g:\\python program\\data science\\lib\\site-packages (from pandas>=0.24.2->tpot) (2.8.1)\n",
      "Requirement already satisfied: threadpoolctl>=2.0.0 in g:\\python program\\data science\\lib\\site-packages (from scikit-learn>=0.22.0->tpot) (2.1.0)\n",
      "Requirement already satisfied: requests>=2.3.0 in g:\\python program\\data science\\lib\\site-packages (from update-checker>=0.16->tpot) (2.22.0)\n",
      "Requirement already satisfied: six>=1.5 in g:\\python program\\data science\\lib\\site-packages (from python-dateutil>=2.6.1->pandas>=0.24.2->tpot) (1.14.0)\n",
      "Requirement already satisfied: idna<2.9,>=2.5 in g:\\python program\\data science\\lib\\site-packages (from requests>=2.3.0->update-checker>=0.16->tpot) (2.8)\n",
      "Requirement already satisfied: urllib3!=1.25.0,!=1.25.1,<1.26,>=1.21.1 in g:\\python program\\data science\\lib\\site-packages (from requests>=2.3.0->update-checker>=0.16->tpot) (1.25.8)\n",
      "Requirement already satisfied: chardet<3.1.0,>=3.0.2 in g:\\python program\\data science\\lib\\site-packages (from requests>=2.3.0->update-checker>=0.16->tpot) (3.0.4)\n",
      "Requirement already satisfied: certifi>=2017.4.17 in g:\\python program\\data science\\lib\\site-packages (from requests>=2.3.0->update-checker>=0.16->tpot) (2019.11.28)\n",
      "Building wheels for collected packages: stopit\n",
      "  Building wheel for stopit (setup.py): started\n",
      "  Building wheel for stopit (setup.py): finished with status 'done'\n",
      "  Created wheel for stopit: filename=stopit-1.1.2-py3-none-any.whl size=11959 sha256=dc156526b9e184fca2aef52e8c61890cba952fb94063be5e9e19e9421744db41\n",
      "  Stored in directory: c:\\users\\avinash mourya\\appdata\\local\\pip\\cache\\wheels\\e2\\d2\\79\\eaf81edb391e27c87f51b8ef901ecc85a5363dc96b8b8d71e3\n",
      "Successfully built stopit\n",
      "Installing collected packages: stopit, update-checker, deap, tpot\n",
      "Successfully installed deap-1.3.1 stopit-1.1.2 tpot-0.11.5 update-checker-0.18.0\n"
     ]
    },
    {
     "name": "stderr",
     "output_type": "stream",
     "text": [
      "WARNING: You are using pip version 20.0.2; however, version 20.2.2 is available.\n",
      "You should consider upgrading via the 'g:\\python program\\data science\\scripts\\python.exe -m pip install --upgrade pip' command.\n"
     ]
    }
   ],
   "source": [
    "# !pip install tpot"
   ]
  },
  {
   "cell_type": "code",
   "execution_count": 28,
   "metadata": {},
   "outputs": [
    {
     "data": {
      "application/vnd.jupyter.widget-view+json": {
       "model_id": "",
       "version_major": 2,
       "version_minor": 0
      },
      "text/plain": [
       "HBox(children=(FloatProgress(value=0.0, description='Optimization Progress', max=84.0, style=ProgressStyle(des…"
      ]
     },
     "metadata": {},
     "output_type": "display_data"
    },
    {
     "name": "stdout",
     "output_type": "stream",
     "text": [
      "\n",
      "Generation 1 - Current best internal CV score: 0.7561359867330016\n",
      "Generation 2 - Current best internal CV score: 0.7579878385848535\n",
      "Generation 3 - Current best internal CV score: 0.7635572139303483\n",
      "Generation 4 - Current best internal CV score: 0.7635572139303483\n",
      "Generation 5 - Current best internal CV score: 0.7635572139303483\n",
      "Best pipeline: RandomForestClassifier(input_matrix, criterion=gini, max_depth=340, max_features=sqrt, min_samples_leaf=2, min_samples_split=10, n_estimators=800)\n"
     ]
    },
    {
     "data": {
      "text/plain": [
       "TPOTClassifier(config_dict={'sklearn.ensemble.RandomForestClassifier': {'criterion': ['entropy',\n",
       "                                                                                      'gini'],\n",
       "                                                                        'max_depth': [10,\n",
       "                                                                                      120,\n",
       "                                                                                      230,\n",
       "                                                                                      340,\n",
       "                                                                                      450,\n",
       "                                                                                      560,\n",
       "                                                                                      670,\n",
       "                                                                                      780,\n",
       "                                                                                      890,\n",
       "                                                                                      1000],\n",
       "                                                                        'max_features': ['auto',\n",
       "                                                                                         'sqrt',\n",
       "                                                                                         'log2'],\n",
       "                                                                        'min_samples_leaf': [1,\n",
       "                                                                                             2,\n",
       "                                                                                             4,\n",
       "                                                                                             6,\n",
       "                                                                                             8],\n",
       "                                                                        'min_samples_split': [2,\n",
       "                                                                                              5,\n",
       "                                                                                              10,\n",
       "                                                                                              14],\n",
       "                                                                        'n_estimators': [200,\n",
       "                                                                                         400,\n",
       "                                                                                         600,\n",
       "                                                                                         800,\n",
       "                                                                                         1000,\n",
       "                                                                                         1200,\n",
       "                                                                                         1400,\n",
       "                                                                                         1600,\n",
       "                                                                                         1800,\n",
       "                                                                                         2000]}},\n",
       "               cv=4, early_stop=12, generations=5,\n",
       "               log_file=<ipykernel.iostream.OutStream object at 0x00000195A2D14808>,\n",
       "               offspring_size=12, population_size=24, scoring='accuracy',\n",
       "               verbosity=2)"
      ]
     },
     "execution_count": 28,
     "metadata": {},
     "output_type": "execute_result"
    }
   ],
   "source": [
    "from tpot import TPOTClassifier\n",
    "\n",
    "\n",
    "tpot_classifier = TPOTClassifier(generations= 5, population_size= 24, offspring_size= 12,\n",
    "                                 verbosity= 2, early_stop= 12,\n",
    "                                 config_dict={'sklearn.ensemble.RandomForestClassifier': param}, \n",
    "                                 cv = 4, scoring = 'accuracy')\n",
    "tpot_classifier.fit(train_x,train_y)"
   ]
  },
  {
   "cell_type": "code",
   "execution_count": 33,
   "metadata": {},
   "outputs": [
    {
     "name": "stdout",
     "output_type": "stream",
     "text": [
      "0.7922077922077922\n"
     ]
    }
   ],
   "source": [
    "accuracy = tpot_classifier.score(test_x, test_y)\n",
    "print(accuracy)"
   ]
  },
  {
   "cell_type": "markdown",
   "metadata": {},
   "source": [
    "### Optimize hyperparameters of the model using Optuna\n",
    "\n",
    "The hyperparameters of the above algorithm are `n_estimators` and `max_depth` for which we can try different values to see if the model accuracy can be improved. The `objective` function is modified to accept a trial object. This trial has several methods for sampling hyperparameters. We create a study to run the hyperparameter optimization and finally read the best hyperparameters."
   ]
  },
  {
   "cell_type": "code",
   "execution_count": 35,
   "metadata": {
    "collapsed": true
   },
   "outputs": [
    {
     "name": "stdout",
     "output_type": "stream",
     "text": [
      "Collecting optuna\n",
      "  Downloading optuna-2.0.0.tar.gz (226 kB)\n",
      "Processing c:\\users\\avinash mourya\\appdata\\local\\pip\\cache\\wheels\\4e\\b5\\00\\f93fe1c90b3d501774e91e2e99987f49d16019e40e4bd3afc3\\alembic-1.4.2-py2.py3-none-any.whl\n",
      "Collecting cliff\n",
      "  Downloading cliff-3.4.0-py3-none-any.whl (76 kB)\n",
      "Collecting cmaes>=0.5.1\n",
      "  Downloading cmaes-0.6.0-py3-none-any.whl (9.6 kB)\n",
      "Collecting colorlog\n",
      "  Downloading colorlog-4.2.1-py2.py3-none-any.whl (14 kB)\n",
      "Requirement already satisfied: joblib in g:\\python program\\data science\\lib\\site-packages (from optuna) (0.14.1)\n",
      "Requirement already satisfied: numpy in g:\\python program\\data science\\lib\\site-packages (from optuna) (1.18.1)\n",
      "Requirement already satisfied: packaging in g:\\python program\\data science\\lib\\site-packages (from optuna) (20.1)\n",
      "Requirement already satisfied: scipy!=1.4.0 in g:\\python program\\data science\\lib\\site-packages (from optuna) (1.4.1)\n",
      "Collecting sqlalchemy>=1.1.0\n",
      "  Downloading SQLAlchemy-1.3.19-cp37-cp37m-win_amd64.whl (1.2 MB)\n",
      "Requirement already satisfied: tqdm in g:\\python program\\data science\\lib\\site-packages (from optuna) (4.43.0)\n",
      "Requirement already satisfied: python-dateutil in g:\\python program\\data science\\lib\\site-packages (from alembic->optuna) (2.8.1)\n",
      "Requirement already satisfied: Mako in g:\\python program\\data science\\lib\\site-packages (from alembic->optuna) (1.1.3)\n",
      "Collecting python-editor>=0.3\n",
      "  Using cached python_editor-1.0.4-py3-none-any.whl (4.9 kB)\n",
      "Collecting pbr!=2.1.0,>=2.0.0\n",
      "  Downloading pbr-5.4.5-py2.py3-none-any.whl (110 kB)\n",
      "Requirement already satisfied: pyparsing>=2.1.0 in g:\\python program\\data science\\lib\\site-packages (from cliff->optuna) (2.4.6)\n",
      "Collecting cmd2!=0.8.3,>=0.8.0\n",
      "  Downloading cmd2-1.3.8-py3-none-any.whl (130 kB)\n",
      "Requirement already satisfied: six>=1.10.0 in g:\\python program\\data science\\lib\\site-packages (from cliff->optuna) (1.14.0)\n",
      "Collecting PyYAML>=3.12\n",
      "  Using cached PyYAML-5.3.1-cp37-cp37m-win_amd64.whl (216 kB)\n",
      "Collecting stevedore>=2.0.1\n",
      "  Downloading stevedore-3.2.0-py3-none-any.whl (42 kB)\n",
      "Collecting PrettyTable<0.8,>=0.7.2\n",
      "  Downloading prettytable-0.7.2.tar.bz2 (21 kB)\n",
      "Requirement already satisfied: colorama; sys_platform == \"win32\" in g:\\python program\\data science\\lib\\site-packages (from colorlog->optuna) (0.4.3)\n",
      "Requirement already satisfied: MarkupSafe>=0.9.2 in g:\\python program\\data science\\lib\\site-packages (from Mako->alembic->optuna) (1.1.1)\n",
      "Requirement already satisfied: wcwidth>=0.1.7 in g:\\python program\\data science\\lib\\site-packages (from cmd2!=0.8.3,>=0.8.0->cliff->optuna) (0.1.8)\n",
      "Requirement already satisfied: attrs>=16.3.0 in g:\\python program\\data science\\lib\\site-packages (from cmd2!=0.8.3,>=0.8.0->cliff->optuna) (19.3.0)\n",
      "Collecting importlib-metadata>=1.6.0; python_version < \"3.8\"\n",
      "  Using cached importlib_metadata-1.7.0-py2.py3-none-any.whl (31 kB)\n",
      "Collecting pyperclip>=1.6\n",
      "  Downloading pyperclip-1.8.0.tar.gz (16 kB)\n",
      "Requirement already satisfied: setuptools>=34.4 in g:\\python program\\data science\\lib\\site-packages (from cmd2!=0.8.3,>=0.8.0->cliff->optuna) (45.1.0)\n",
      "Collecting pyreadline; sys_platform == \"win32\"\n",
      "  Downloading pyreadline-2.1.zip (109 kB)\n",
      "Requirement already satisfied: zipp>=0.5 in g:\\python program\\data science\\lib\\site-packages (from importlib-metadata>=1.6.0; python_version < \"3.8\"->cmd2!=0.8.3,>=0.8.0->cliff->optuna) (2.1.0)\n",
      "Building wheels for collected packages: optuna, PrettyTable, pyperclip, pyreadline\n",
      "  Building wheel for optuna (setup.py): started\n",
      "  Building wheel for optuna (setup.py): finished with status 'done'\n",
      "  Created wheel for optuna: filename=optuna-2.0.0-py3-none-any.whl size=312970 sha256=ee62478ad95f47f506b7e44b95828ec673ea8e9c48166cf167f3c0ab433226df\n",
      "  Stored in directory: c:\\users\\avinash mourya\\appdata\\local\\pip\\cache\\wheels\\22\\8b\\08\\d32553e8cd416e1974ae704d41102b5a691c9612ad982b7991\n",
      "  Building wheel for PrettyTable (setup.py): started\n",
      "  Building wheel for PrettyTable (setup.py): finished with status 'done'\n",
      "  Created wheel for PrettyTable: filename=prettytable-0.7.2-py3-none-any.whl size=13704 sha256=3b3f86b919479c693aa0c1b06f2c6229a4fcd9e65a8628d64657dc23826be0be\n",
      "  Stored in directory: c:\\users\\avinash mourya\\appdata\\local\\pip\\cache\\wheels\\8c\\76\\0b\\eb9eb3da7e2335e3577e3f96a0ae9f74f206e26457bd1a2bc8\n",
      "  Building wheel for pyperclip (setup.py): started\n",
      "  Building wheel for pyperclip (setup.py): finished with status 'done'\n",
      "  Created wheel for pyperclip: filename=pyperclip-1.8.0-py3-none-any.whl size=8696 sha256=b5421ef2941c6bb776e7dfeb1c4917072eba4fe864623beaacedb5b7bec079dc\n",
      "  Stored in directory: c:\\users\\avinash mourya\\appdata\\local\\pip\\cache\\wheels\\e5\\5e\\f7\\441179ddf6ac56f36cb1d84d94f35beedd5da15986ce3d321d\n",
      "  Building wheel for pyreadline (setup.py): started\n",
      "  Building wheel for pyreadline (setup.py): finished with status 'done'\n",
      "  Created wheel for pyreadline: filename=pyreadline-2.1-py3-none-any.whl size=93844 sha256=1768eeaf3651c5561f62b5cbdafc09ca5ccf1cf32de5852a6612fa4fd21cd92f\n",
      "  Stored in directory: c:\\users\\avinash mourya\\appdata\\local\\pip\\cache\\wheels\\00\\6e\\d4\\7c4b7bc22c090baf4f470e7f35c4f22206277229bdb6607df6\n",
      "Successfully built optuna PrettyTable pyperclip pyreadline\n",
      "Installing collected packages: sqlalchemy, python-editor, alembic, pbr, importlib-metadata, pyperclip, pyreadline, cmd2, PyYAML, stevedore, PrettyTable, cliff, cmaes, colorlog, optuna\n",
      "  Attempting uninstall: importlib-metadata\n",
      "    Found existing installation: importlib-metadata 1.5.0\n",
      "    Uninstalling importlib-metadata-1.5.0:\n",
      "      Successfully uninstalled importlib-metadata-1.5.0\n",
      "Successfully installed PrettyTable-0.7.2 PyYAML-5.3.1 alembic-1.4.2 cliff-3.4.0 cmaes-0.6.0 cmd2-1.3.8 colorlog-4.2.1 importlib-metadata-1.7.0 optuna-2.0.0 pbr-5.4.5 pyperclip-1.8.0 pyreadline-2.1 python-editor-1.0.4 sqlalchemy-1.3.19 stevedore-3.2.0\n"
     ]
    },
    {
     "name": "stderr",
     "output_type": "stream",
     "text": [
      "WARNING: You are using pip version 20.0.2; however, version 20.2.2 is available.\n",
      "You should consider upgrading via the 'g:\\python program\\data science\\scripts\\python.exe -m pip install --upgrade pip' command.\n"
     ]
    }
   ],
   "source": [
    "# !pip install optuna"
   ]
  },
  {
   "cell_type": "code",
   "execution_count": 38,
   "metadata": {},
   "outputs": [],
   "source": [
    "import optuna\n",
    "import sklearn.svm\n",
    "def objective(trial):\n",
    "\n",
    "    classifier = trial.suggest_categorical('classifier', ['RandomForest', 'SVC'])\n",
    "    \n",
    "    if classifier == 'RandomForest':\n",
    "        n_estimators = trial.suggest_int('n_estimators', 200, 2000,10)\n",
    "        max_depth = int(trial.suggest_float('max_depth', 10, 100, log=True))\n",
    "\n",
    "        clf = sklearn.ensemble.RandomForestClassifier(\n",
    "            n_estimators=n_estimators, max_depth=max_depth)\n",
    "    else:\n",
    "        c = trial.suggest_float('svc_c', 1e-10, 1e10, log=True)\n",
    "        \n",
    "        clf = sklearn.svm.SVC(C=c, gamma='auto')\n",
    "\n",
    "    return sklearn.model_selection.cross_val_score(\n",
    "        clf,train_x,train_y, n_jobs=-1, cv=3).mean()\n"
   ]
  },
  {
   "cell_type": "code",
   "execution_count": 39,
   "metadata": {
    "scrolled": true
   },
   "outputs": [
    {
     "name": "stderr",
     "output_type": "stream",
     "text": [
      "[I 2020-08-30 04:13:32,511] Trial 0 finished with value: 0.6517690875232774 and parameters: {'classifier': 'SVC', 'svc_c': 0.06873662782239964}. Best is trial 0 with value: 0.6517690875232774.\n",
      "[I 2020-08-30 04:13:33,929] Trial 1 finished with value: 0.6517690875232774 and parameters: {'classifier': 'SVC', 'svc_c': 1.9647042399796806}. Best is trial 0 with value: 0.6517690875232774.\n",
      "[I 2020-08-30 04:13:33,985] Trial 2 finished with value: 0.6517690875232774 and parameters: {'classifier': 'SVC', 'svc_c': 0.00028104839404189064}. Best is trial 0 with value: 0.6517690875232774.\n",
      "[I 2020-08-30 04:13:36,279] Trial 3 finished with value: 0.74487895716946 and parameters: {'classifier': 'RandomForest', 'n_estimators': 290, 'max_depth': 11.73307282474172}. Best is trial 3 with value: 0.74487895716946.\n",
      "[I 2020-08-30 04:13:36,344] Trial 4 finished with value: 0.6517690875232774 and parameters: {'classifier': 'SVC', 'svc_c': 0.6555521231065513}. Best is trial 3 with value: 0.74487895716946.\n",
      "[I 2020-08-30 04:13:37,210] Trial 5 finished with value: 0.7355679702048418 and parameters: {'classifier': 'RandomForest', 'n_estimators': 230, 'max_depth': 18.138022349898296}. Best is trial 3 with value: 0.74487895716946.\n",
      "[I 2020-08-30 04:13:39,857] Trial 6 finished with value: 0.7374301675977654 and parameters: {'classifier': 'RandomForest', 'n_estimators': 780, 'max_depth': 36.7238099333599}. Best is trial 3 with value: 0.74487895716946.\n",
      "[I 2020-08-30 04:13:43,986] Trial 7 finished with value: 0.7411545623836128 and parameters: {'classifier': 'RandomForest', 'n_estimators': 1280, 'max_depth': 34.31491772289851}. Best is trial 3 with value: 0.74487895716946.\n",
      "[I 2020-08-30 04:13:46,714] Trial 8 finished with value: 0.7430167597765363 and parameters: {'classifier': 'RandomForest', 'n_estimators': 840, 'max_depth': 75.79186490491858}. Best is trial 3 with value: 0.74487895716946.\n",
      "[I 2020-08-30 04:13:49,591] Trial 9 finished with value: 0.7374301675977654 and parameters: {'classifier': 'RandomForest', 'n_estimators': 880, 'max_depth': 61.92519387513951}. Best is trial 3 with value: 0.74487895716946.\n",
      "[I 2020-08-30 04:13:56,003] Trial 10 finished with value: 0.7467411545623835 and parameters: {'classifier': 'RandomForest', 'n_estimators': 1980, 'max_depth': 10.164374096378207}. Best is trial 10 with value: 0.7467411545623835.\n",
      "[I 2020-08-30 04:14:01,975] Trial 11 finished with value: 0.7392923649906891 and parameters: {'classifier': 'RandomForest', 'n_estimators': 1880, 'max_depth': 10.018963078528387}. Best is trial 10 with value: 0.7467411545623835.\n",
      "[I 2020-08-30 04:14:08,007] Trial 12 finished with value: 0.7467411545623835 and parameters: {'classifier': 'RandomForest', 'n_estimators': 1910, 'max_depth': 10.337202809670123}. Best is trial 10 with value: 0.7467411545623835.\n",
      "[I 2020-08-30 04:14:14,683] Trial 13 finished with value: 0.74487895716946 and parameters: {'classifier': 'RandomForest', 'n_estimators': 1960, 'max_depth': 16.388925422752504}. Best is trial 10 with value: 0.7467411545623835.\n",
      "[I 2020-08-30 04:14:19,631] Trial 14 finished with value: 0.74487895716946 and parameters: {'classifier': 'RandomForest', 'n_estimators': 1530, 'max_depth': 10.340981243675706}. Best is trial 10 with value: 0.7467411545623835.\n",
      "[I 2020-08-30 04:14:25,209] Trial 15 finished with value: 0.7430167597765364 and parameters: {'classifier': 'RandomForest', 'n_estimators': 1720, 'max_depth': 18.802602333246426}. Best is trial 10 with value: 0.7467411545623835.\n",
      "[I 2020-08-30 04:14:31,562] Trial 16 finished with value: 0.739292364990689 and parameters: {'classifier': 'RandomForest', 'n_estimators': 2000, 'max_depth': 13.90274942363052}. Best is trial 10 with value: 0.7467411545623835.\n",
      "[I 2020-08-30 04:14:36,555] Trial 17 finished with value: 0.7411545623836128 and parameters: {'classifier': 'RandomForest', 'n_estimators': 1550, 'max_depth': 24.907399261373108}. Best is trial 10 with value: 0.7467411545623835.\n",
      "[I 2020-08-30 04:14:40,724] Trial 18 finished with value: 0.7486033519553073 and parameters: {'classifier': 'RandomForest', 'n_estimators': 1280, 'max_depth': 48.427026274478315}. Best is trial 18 with value: 0.7486033519553073.\n",
      "[I 2020-08-30 04:14:44,891] Trial 19 finished with value: 0.7392923649906891 and parameters: {'classifier': 'RandomForest', 'n_estimators': 1190, 'max_depth': 46.81344036291887}. Best is trial 18 with value: 0.7486033519553073.\n",
      "[I 2020-08-30 04:14:44,954] Trial 20 finished with value: 0.6517690875232774 and parameters: {'classifier': 'SVC', 'svc_c': 2177082128.7278214}. Best is trial 18 with value: 0.7486033519553073.\n",
      "[I 2020-08-30 04:14:50,563] Trial 21 finished with value: 0.7467411545623835 and parameters: {'classifier': 'RandomForest', 'n_estimators': 1720, 'max_depth': 51.695783854922766}. Best is trial 18 with value: 0.7486033519553073.\n",
      "[I 2020-08-30 04:14:55,311] Trial 22 finished with value: 0.7411545623836125 and parameters: {'classifier': 'RandomForest', 'n_estimators': 1410, 'max_depth': 25.95558143216977}. Best is trial 18 with value: 0.7486033519553073.\n",
      "[I 2020-08-30 04:15:01,383] Trial 23 finished with value: 0.7411545623836125 and parameters: {'classifier': 'RandomForest', 'n_estimators': 1730, 'max_depth': 51.51457566251204}. Best is trial 18 with value: 0.7486033519553073.\n",
      "[I 2020-08-30 04:15:07,264] Trial 24 finished with value: 0.7467411545623835 and parameters: {'classifier': 'RandomForest', 'n_estimators': 1730, 'max_depth': 49.02545323158151}. Best is trial 18 with value: 0.7486033519553073.\n",
      "[I 2020-08-30 04:15:11,261] Trial 25 finished with value: 0.7337057728119181 and parameters: {'classifier': 'RandomForest', 'n_estimators': 1030, 'max_depth': 82.36733990414272}. Best is trial 18 with value: 0.7486033519553073.\n",
      "[I 2020-08-30 04:15:13,667] Trial 26 finished with value: 0.7430167597765363 and parameters: {'classifier': 'RandomForest', 'n_estimators': 600, 'max_depth': 67.46821258550064}. Best is trial 18 with value: 0.7486033519553073.\n",
      "[I 2020-08-30 04:15:19,342] Trial 27 finished with value: 0.7430167597765363 and parameters: {'classifier': 'RandomForest', 'n_estimators': 1670, 'max_depth': 44.71654191481792}. Best is trial 18 with value: 0.7486033519553073.\n",
      "[I 2020-08-30 04:15:24,511] Trial 28 finished with value: 0.74487895716946 and parameters: {'classifier': 'RandomForest', 'n_estimators': 1350, 'max_depth': 57.51391893111063}. Best is trial 18 with value: 0.7486033519553073.\n",
      "[I 2020-08-30 04:15:24,568] Trial 29 finished with value: 0.6517690875232774 and parameters: {'classifier': 'SVC', 'svc_c': 1.500708496800117e-09}. Best is trial 18 with value: 0.7486033519553073.\n",
      "[I 2020-08-30 04:15:30,171] Trial 30 finished with value: 0.7355679702048418 and parameters: {'classifier': 'RandomForest', 'n_estimators': 1520, 'max_depth': 40.80919057541365}. Best is trial 18 with value: 0.7486033519553073.\n",
      "[I 2020-08-30 04:15:36,271] Trial 31 finished with value: 0.7430167597765363 and parameters: {'classifier': 'RandomForest', 'n_estimators': 1880, 'max_depth': 29.501557596101428}. Best is trial 18 with value: 0.7486033519553073.\n",
      "[I 2020-08-30 04:15:42,667] Trial 32 finished with value: 0.7411545623836128 and parameters: {'classifier': 'RandomForest', 'n_estimators': 1770, 'max_depth': 91.96222469547742}. Best is trial 18 with value: 0.7486033519553073.\n",
      "[I 2020-08-30 04:15:49,157] Trial 33 finished with value: 0.7318435754189944 and parameters: {'classifier': 'RandomForest', 'n_estimators': 2000, 'max_depth': 40.42420978190328}. Best is trial 18 with value: 0.7486033519553073.\n",
      "[I 2020-08-30 04:15:49,229] Trial 34 finished with value: 0.6517690875232774 and parameters: {'classifier': 'SVC', 'svc_c': 30466709.34153006}. Best is trial 18 with value: 0.7486033519553073.\n",
      "[I 2020-08-30 04:15:54,958] Trial 35 finished with value: 0.7430167597765364 and parameters: {'classifier': 'RandomForest', 'n_estimators': 1830, 'max_depth': 53.7137476079811}. Best is trial 18 with value: 0.7486033519553073.\n",
      "[I 2020-08-30 04:15:59,952] Trial 36 finished with value: 0.7374301675977654 and parameters: {'classifier': 'RandomForest', 'n_estimators': 1600, 'max_depth': 69.21887004940096}. Best is trial 18 with value: 0.7486033519553073.\n",
      "[I 2020-08-30 04:16:00,007] Trial 37 finished with value: 0.6517690875232774 and parameters: {'classifier': 'SVC', 'svc_c': 4.4133930205939697e-10}. Best is trial 18 with value: 0.7486033519553073.\n",
      "[I 2020-08-30 04:16:04,473] Trial 38 finished with value: 0.7374301675977654 and parameters: {'classifier': 'RandomForest', 'n_estimators': 1400, 'max_depth': 50.741502892018175}. Best is trial 18 with value: 0.7486033519553073.\n",
      "[I 2020-08-30 04:16:07,806] Trial 39 finished with value: 0.750465549348231 and parameters: {'classifier': 'RandomForest', 'n_estimators': 1060, 'max_depth': 96.03173417321712}. Best is trial 39 with value: 0.750465549348231.\n",
      "[I 2020-08-30 04:16:10,934] Trial 40 finished with value: 0.7448789571694601 and parameters: {'classifier': 'RandomForest', 'n_estimators': 1000, 'max_depth': 99.85818456378708}. Best is trial 39 with value: 0.750465549348231.\n",
      "[I 2020-08-30 04:16:14,575] Trial 41 finished with value: 0.7486033519553073 and parameters: {'classifier': 'RandomForest', 'n_estimators': 1120, 'max_depth': 12.157575288865266}. Best is trial 39 with value: 0.750465549348231.\n",
      "[I 2020-08-30 04:16:18,380] Trial 42 finished with value: 0.7355679702048418 and parameters: {'classifier': 'RandomForest', 'n_estimators': 1140, 'max_depth': 29.06022131920401}. Best is trial 39 with value: 0.750465549348231.\n",
      "[I 2020-08-30 04:16:20,551] Trial 43 finished with value: 0.7486033519553073 and parameters: {'classifier': 'RandomForest', 'n_estimators': 690, 'max_depth': 36.073065603931205}. Best is trial 39 with value: 0.750465549348231.\n",
      "[I 2020-08-30 04:16:21,951] Trial 44 finished with value: 0.7411545623836128 and parameters: {'classifier': 'RandomForest', 'n_estimators': 440, 'max_depth': 34.60291963173396}. Best is trial 39 with value: 0.750465549348231.\n",
      "[I 2020-08-30 04:16:23,991] Trial 45 finished with value: 0.7523277467411545 and parameters: {'classifier': 'RandomForest', 'n_estimators': 640, 'max_depth': 23.13684261340079}. Best is trial 45 with value: 0.7523277467411545.\n",
      "[I 2020-08-30 04:16:26,120] Trial 46 finished with value: 0.7523277467411545 and parameters: {'classifier': 'RandomForest', 'n_estimators': 660, 'max_depth': 18.83708992562372}. Best is trial 45 with value: 0.7523277467411545.\n",
      "[I 2020-08-30 04:16:28,296] Trial 47 finished with value: 0.7318435754189944 and parameters: {'classifier': 'RandomForest', 'n_estimators': 680, 'max_depth': 21.353257864013926}. Best is trial 45 with value: 0.7523277467411545.\n",
      "[I 2020-08-30 04:16:29,612] Trial 48 finished with value: 0.7430167597765364 and parameters: {'classifier': 'RandomForest', 'n_estimators': 410, 'max_depth': 12.755757617184956}. Best is trial 45 with value: 0.7523277467411545.\n",
      "[I 2020-08-30 04:16:31,960] Trial 49 finished with value: 0.7374301675977654 and parameters: {'classifier': 'RandomForest', 'n_estimators': 740, 'max_depth': 15.513197250620404}. Best is trial 45 with value: 0.7523277467411545.\n",
      "[I 2020-08-30 04:16:33,666] Trial 50 finished with value: 0.7467411545623835 and parameters: {'classifier': 'RandomForest', 'n_estimators': 530, 'max_depth': 21.317495308740046}. Best is trial 45 with value: 0.7523277467411545.\n",
      "[I 2020-08-30 04:16:36,719] Trial 51 finished with value: 0.7337057728119181 and parameters: {'classifier': 'RandomForest', 'n_estimators': 890, 'max_depth': 22.951584156990616}. Best is trial 45 with value: 0.7523277467411545.\n",
      "[I 2020-08-30 04:16:37,518] Trial 52 finished with value: 0.7355679702048418 and parameters: {'classifier': 'RandomForest', 'n_estimators': 210, 'max_depth': 18.426834135707324}. Best is trial 45 with value: 0.7523277467411545.\n",
      "[I 2020-08-30 04:16:41,983] Trial 53 finished with value: 0.7486033519553073 and parameters: {'classifier': 'RandomForest', 'n_estimators': 1230, 'max_depth': 32.81077982118106}. Best is trial 45 with value: 0.7523277467411545.\n",
      "[I 2020-08-30 04:16:45,824] Trial 54 finished with value: 0.74487895716946 and parameters: {'classifier': 'RandomForest', 'n_estimators': 1220, 'max_depth': 29.79477083366638}. Best is trial 45 with value: 0.7523277467411545.\n",
      "[I 2020-08-30 04:16:48,797] Trial 55 finished with value: 0.7486033519553073 and parameters: {'classifier': 'RandomForest', 'n_estimators': 950, 'max_depth': 33.462139015250045}. Best is trial 45 with value: 0.7523277467411545.\n",
      "[I 2020-08-30 04:16:51,319] Trial 56 finished with value: 0.74487895716946 and parameters: {'classifier': 'RandomForest', 'n_estimators': 790, 'max_depth': 11.534768239696316}. Best is trial 45 with value: 0.7523277467411545.\n",
      "[I 2020-08-30 04:16:54,720] Trial 57 finished with value: 0.7374301675977654 and parameters: {'classifier': 'RandomForest', 'n_estimators': 1080, 'max_depth': 16.56624544460809}. Best is trial 45 with value: 0.7523277467411545.\n",
      "[I 2020-08-30 04:16:54,800] Trial 58 finished with value: 0.6517690875232774 and parameters: {'classifier': 'SVC', 'svc_c': 62476.28488316063}. Best is trial 45 with value: 0.7523277467411545.\n",
      "[I 2020-08-30 04:16:57,665] Trial 59 finished with value: 0.739292364990689 and parameters: {'classifier': 'RandomForest', 'n_estimators': 890, 'max_depth': 25.311347822156176}. Best is trial 45 with value: 0.7523277467411545.\n",
      "[I 2020-08-30 04:17:00,801] Trial 60 finished with value: 0.7337057728119181 and parameters: {'classifier': 'RandomForest', 'n_estimators': 980, 'max_depth': 14.3108267265264}. Best is trial 45 with value: 0.7523277467411545.\n",
      "[I 2020-08-30 04:17:04,820] Trial 61 finished with value: 0.7467411545623835 and parameters: {'classifier': 'RandomForest', 'n_estimators': 1280, 'max_depth': 33.62070011936574}. Best is trial 45 with value: 0.7523277467411545.\n",
      "[I 2020-08-30 04:17:06,747] Trial 62 finished with value: 0.7411545623836128 and parameters: {'classifier': 'RandomForest', 'n_estimators': 610, 'max_depth': 38.21696267513564}. Best is trial 45 with value: 0.7523277467411545.\n",
      "[I 2020-08-30 04:17:10,290] Trial 63 finished with value: 0.7430167597765364 and parameters: {'classifier': 'RandomForest', 'n_estimators': 1120, 'max_depth': 27.88022388885809}. Best is trial 45 with value: 0.7523277467411545.\n",
      "[I 2020-08-30 04:17:13,198] Trial 64 finished with value: 0.7486033519553073 and parameters: {'classifier': 'RandomForest', 'n_estimators': 930, 'max_depth': 22.660810697037004}. Best is trial 45 with value: 0.7523277467411545.\n",
      "[I 2020-08-30 04:17:15,401] Trial 65 finished with value: 0.7430167597765363 and parameters: {'classifier': 'RandomForest', 'n_estimators': 700, 'max_depth': 20.03859720640233}. Best is trial 45 with value: 0.7523277467411545.\n",
      "[I 2020-08-30 04:17:19,608] Trial 66 finished with value: 0.7374301675977654 and parameters: {'classifier': 'RandomForest', 'n_estimators': 1240, 'max_depth': 23.07746829976891}. Best is trial 45 with value: 0.7523277467411545.\n",
      "[I 2020-08-30 04:17:22,448] Trial 67 finished with value: 0.7374301675977654 and parameters: {'classifier': 'RandomForest', 'n_estimators': 820, 'max_depth': 26.367031619073327}. Best is trial 45 with value: 0.7523277467411545.\n",
      "[I 2020-08-30 04:17:23,697] Trial 68 finished with value: 0.7392923649906891 and parameters: {'classifier': 'RandomForest', 'n_estimators': 310, 'max_depth': 43.70805475388706}. Best is trial 45 with value: 0.7523277467411545.\n",
      "[I 2020-08-30 04:17:27,231] Trial 69 finished with value: 0.7374301675977654 and parameters: {'classifier': 'RandomForest', 'n_estimators': 1050, 'max_depth': 17.457144229305943}. Best is trial 45 with value: 0.7523277467411545.\n",
      "[I 2020-08-30 04:17:30,271] Trial 70 finished with value: 0.7355679702048418 and parameters: {'classifier': 'RandomForest', 'n_estimators': 920, 'max_depth': 32.84247349126026}. Best is trial 45 with value: 0.7523277467411545.\n",
      "[I 2020-08-30 04:17:33,872] Trial 71 finished with value: 0.7318435754189944 and parameters: {'classifier': 'RandomForest', 'n_estimators': 1150, 'max_depth': 23.764719621085554}. Best is trial 45 with value: 0.7523277467411545.\n",
      "[I 2020-08-30 04:17:36,835] Trial 72 finished with value: 0.7337057728119181 and parameters: {'classifier': 'RandomForest', 'n_estimators': 950, 'max_depth': 30.427763562022893}. Best is trial 45 with value: 0.7523277467411545.\n"
     ]
    },
    {
     "name": "stderr",
     "output_type": "stream",
     "text": [
      "[I 2020-08-30 04:17:39,049] Trial 73 finished with value: 0.7486033519553073 and parameters: {'classifier': 'RandomForest', 'n_estimators': 640, 'max_depth': 27.385448069204017}. Best is trial 45 with value: 0.7523277467411545.\n",
      "[I 2020-08-30 04:17:41,047] Trial 74 finished with value: 0.750465549348231 and parameters: {'classifier': 'RandomForest', 'n_estimators': 590, 'max_depth': 37.42607064190432}. Best is trial 45 with value: 0.7523277467411545.\n",
      "[I 2020-08-30 04:17:42,561] Trial 75 finished with value: 0.7467411545623835 and parameters: {'classifier': 'RandomForest', 'n_estimators': 470, 'max_depth': 36.06983569532787}. Best is trial 45 with value: 0.7523277467411545.\n",
      "[I 2020-08-30 04:17:44,514] Trial 76 finished with value: 0.7411545623836125 and parameters: {'classifier': 'RandomForest', 'n_estimators': 610, 'max_depth': 19.970791158594025}. Best is trial 45 with value: 0.7523277467411545.\n",
      "[I 2020-08-30 04:17:46,567] Trial 77 finished with value: 0.74487895716946 and parameters: {'classifier': 'RandomForest', 'n_estimators': 650, 'max_depth': 20.45330578964766}. Best is trial 45 with value: 0.7523277467411545.\n",
      "[I 2020-08-30 04:17:46,627] Trial 78 finished with value: 0.6517690875232774 and parameters: {'classifier': 'SVC', 'svc_c': 4.245708995066498e-06}. Best is trial 45 with value: 0.7523277467411545.\n",
      "[I 2020-08-30 04:17:48,365] Trial 79 finished with value: 0.7318435754189944 and parameters: {'classifier': 'RandomForest', 'n_estimators': 540, 'max_depth': 27.347015002249794}. Best is trial 45 with value: 0.7523277467411545.\n",
      "[I 2020-08-30 04:17:50,715] Trial 80 finished with value: 0.7467411545623835 and parameters: {'classifier': 'RandomForest', 'n_estimators': 750, 'max_depth': 37.78540410653638}. Best is trial 45 with value: 0.7523277467411545.\n",
      "[I 2020-08-30 04:17:54,781] Trial 81 finished with value: 0.7467411545623835 and parameters: {'classifier': 'RandomForest', 'n_estimators': 1300, 'max_depth': 39.348509487770166}. Best is trial 45 with value: 0.7523277467411545.\n",
      "[I 2020-08-30 04:17:57,452] Trial 82 finished with value: 0.74487895716946 and parameters: {'classifier': 'RandomForest', 'n_estimators': 840, 'max_depth': 31.391757029813224}. Best is trial 45 with value: 0.7523277467411545.\n",
      "[I 2020-08-30 04:17:59,075] Trial 83 finished with value: 0.7541899441340782 and parameters: {'classifier': 'RandomForest', 'n_estimators': 510, 'max_depth': 23.86949196431638}. Best is trial 83 with value: 0.7541899441340782.\n",
      "[I 2020-08-30 04:18:00,870] Trial 84 finished with value: 0.7411545623836125 and parameters: {'classifier': 'RandomForest', 'n_estimators': 550, 'max_depth': 24.952052093150296}. Best is trial 83 with value: 0.7541899441340782.\n",
      "[I 2020-08-30 04:18:01,879] Trial 85 finished with value: 0.7486033519553073 and parameters: {'classifier': 'RandomForest', 'n_estimators': 310, 'max_depth': 42.14716795996476}. Best is trial 83 with value: 0.7541899441340782.\n",
      "[I 2020-08-30 04:18:03,018] Trial 86 finished with value: 0.7337057728119181 and parameters: {'classifier': 'RandomForest', 'n_estimators': 350, 'max_depth': 42.86940301525942}. Best is trial 83 with value: 0.7541899441340782.\n",
      "[I 2020-08-30 04:18:04,664] Trial 87 finished with value: 0.74487895716946 and parameters: {'classifier': 'RandomForest', 'n_estimators': 500, 'max_depth': 35.58414411013042}. Best is trial 83 with value: 0.7541899441340782.\n",
      "[I 2020-08-30 04:18:05,590] Trial 88 finished with value: 0.7411545623836128 and parameters: {'classifier': 'RandomForest', 'n_estimators': 270, 'max_depth': 27.37096462688991}. Best is trial 83 with value: 0.7541899441340782.\n",
      "[I 2020-08-30 04:18:06,866] Trial 89 finished with value: 0.7411545623836125 and parameters: {'classifier': 'RandomForest', 'n_estimators': 390, 'max_depth': 46.9333235089863}. Best is trial 83 with value: 0.7541899441340782.\n",
      "[I 2020-08-30 04:18:09,007] Trial 90 finished with value: 0.7411545623836128 and parameters: {'classifier': 'RandomForest', 'n_estimators': 680, 'max_depth': 11.300155594423346}. Best is trial 83 with value: 0.7541899441340782.\n",
      "[I 2020-08-30 04:18:12,705] Trial 91 finished with value: 0.7411545623836128 and parameters: {'classifier': 'RandomForest', 'n_estimators': 1180, 'max_depth': 21.8751017770249}. Best is trial 83 with value: 0.7541899441340782.\n",
      "[I 2020-08-30 04:18:16,109] Trial 92 finished with value: 0.7374301675977654 and parameters: {'classifier': 'RandomForest', 'n_estimators': 1080, 'max_depth': 24.293397915086747}. Best is trial 83 with value: 0.7541899441340782.\n",
      "[I 2020-08-30 04:18:17,999] Trial 93 finished with value: 0.7467411545623835 and parameters: {'classifier': 'RandomForest', 'n_estimators': 590, 'max_depth': 31.617862404157695}. Best is trial 83 with value: 0.7541899441340782.\n",
      "[I 2020-08-30 04:18:19,527] Trial 94 finished with value: 0.7467411545623835 and parameters: {'classifier': 'RandomForest', 'n_estimators': 470, 'max_depth': 58.96627757015078}. Best is trial 83 with value: 0.7541899441340782.\n",
      "[I 2020-08-30 04:18:21,881] Trial 95 finished with value: 0.7430167597765364 and parameters: {'classifier': 'RandomForest', 'n_estimators': 740, 'max_depth': 18.95665489343376}. Best is trial 83 with value: 0.7541899441340782.\n",
      "[I 2020-08-30 04:18:23,750] Trial 96 finished with value: 0.7486033519553073 and parameters: {'classifier': 'RandomForest', 'n_estimators': 570, 'max_depth': 21.938888382631674}. Best is trial 83 with value: 0.7541899441340782.\n",
      "[I 2020-08-30 04:18:26,709] Trial 97 finished with value: 0.7467411545623835 and parameters: {'classifier': 'RandomForest', 'n_estimators': 940, 'max_depth': 33.31887574524951}. Best is trial 83 with value: 0.7541899441340782.\n",
      "[I 2020-08-30 04:18:28,512] Trial 98 finished with value: 0.74487895716946 and parameters: {'classifier': 'RandomForest', 'n_estimators': 570, 'max_depth': 14.133703206421739}. Best is trial 83 with value: 0.7541899441340782.\n",
      "[I 2020-08-30 04:18:28,593] Trial 99 finished with value: 0.6517690875232774 and parameters: {'classifier': 'SVC', 'svc_c': 28478.46495756436}. Best is trial 83 with value: 0.7541899441340782.\n"
     ]
    },
    {
     "name": "stdout",
     "output_type": "stream",
     "text": [
      "Accuracy: 0.7541899441340782\n",
      "Best hyperparameters: {'classifier': 'RandomForest', 'n_estimators': 510, 'max_depth': 23.86949196431638}\n"
     ]
    }
   ],
   "source": [
    "study = optuna.create_study(direction='maximize')\n",
    "study.optimize(objective, n_trials=100)\n",
    "\n",
    "trial = study.best_trial\n",
    "\n",
    "print('Accuracy: {}'.format(trial.value))\n",
    "print(\"Best hyperparameters: {}\".format(trial.params))"
   ]
  },
  {
   "cell_type": "code",
   "execution_count": 40,
   "metadata": {},
   "outputs": [
    {
     "data": {
      "text/plain": [
       "FrozenTrial(number=83, value=0.7541899441340782, datetime_start=datetime.datetime(2020, 8, 30, 4, 17, 57, 456439), datetime_complete=datetime.datetime(2020, 8, 30, 4, 17, 59, 75442), params={'classifier': 'RandomForest', 'n_estimators': 510, 'max_depth': 23.86949196431638}, distributions={'classifier': CategoricalDistribution(choices=('RandomForest', 'SVC')), 'n_estimators': IntUniformDistribution(high=2000, low=200, step=10), 'max_depth': LogUniformDistribution(high=100, low=10)}, user_attrs={}, system_attrs={}, intermediate_values={}, trial_id=83, state=TrialState.COMPLETE)"
      ]
     },
     "execution_count": 40,
     "metadata": {},
     "output_type": "execute_result"
    }
   ],
   "source": [
    "trial"
   ]
  },
  {
   "cell_type": "code",
   "execution_count": 41,
   "metadata": {},
   "outputs": [
    {
     "data": {
      "text/plain": [
       "RandomForestClassifier(max_depth=30, n_estimators=330)"
      ]
     },
     "execution_count": 41,
     "metadata": {},
     "output_type": "execute_result"
    }
   ],
   "source": [
    "rf=RandomForestClassifier(n_estimators=330,max_depth=30)\n",
    "rf.fit(train_x,train_y)"
   ]
  },
  {
   "cell_type": "code",
   "execution_count": 42,
   "metadata": {},
   "outputs": [
    {
     "name": "stdout",
     "output_type": "stream",
     "text": [
      "[[130  20]\n",
      " [ 23  58]]\n",
      "0.8138528138528138\n",
      "              precision    recall  f1-score   support\n",
      "\n",
      "           0       0.85      0.87      0.86       150\n",
      "           1       0.74      0.72      0.73        81\n",
      "\n",
      "    accuracy                           0.81       231\n",
      "   macro avg       0.80      0.79      0.79       231\n",
      "weighted avg       0.81      0.81      0.81       231\n",
      "\n"
     ]
    }
   ],
   "source": [
    "y_pred=rf.predict(test_x)\n",
    "print(confusion_matrix(test_y,y_pred))\n",
    "print(accuracy_score(test_y,y_pred))\n",
    "print(classification_report(test_y,y_pred))"
   ]
  },
  {
   "cell_type": "code",
   "execution_count": null,
   "metadata": {},
   "outputs": [],
   "source": []
  },
  {
   "cell_type": "code",
   "execution_count": null,
   "metadata": {},
   "outputs": [],
   "source": []
  }
 ],
 "metadata": {
  "kernelspec": {
   "display_name": "Python 3",
   "language": "python",
   "name": "python3"
  },
  "language_info": {
   "codemirror_mode": {
    "name": "ipython",
    "version": 3
   },
   "file_extension": ".py",
   "mimetype": "text/x-python",
   "name": "python",
   "nbconvert_exporter": "python",
   "pygments_lexer": "ipython3",
   "version": "3.7.6"
  }
 },
 "nbformat": 4,
 "nbformat_minor": 4
}
